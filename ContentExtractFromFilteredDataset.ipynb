{
 "cells": [
  {
   "cell_type": "code",
   "execution_count": 2,
   "metadata": {},
   "outputs": [],
   "source": [
    "import os\n",
    "import xml.etree.ElementTree as ET\n",
    "import csv\n",
    "\n",
    "file_path_new = 'filtered_dataset'\n",
    "content_list = []\n",
    "family_list = []\n",
    "genus_list = []\n",
    "for file in os.listdir(file_path_new): \n",
    "    file_path = os.path.join(file_path_new, file)\n",
    "    if file_path.endswith('.xml'):\n",
    "        try:\n",
    "            tree = ET.parse(file_path)\n",
    "            root = tree.getroot()\n",
    "            content_element = root.find(\"Content\")  # Changed line\n",
    "            family_element = root.find(\"Family\")  # Changed line\n",
    "            genus_element = root.find(\"Genus\")  # Changed line\n",
    "            content_list.append(content_element.text.strip() if content_element is not None else \"None\")\n",
    "            family_list.append(family_element.text.strip() if family_element is not None else \"None\")\n",
    "            genus_list.append(genus_element.text.strip() if genus_element is not None else \"None\")\n",
    "        except Exception as e:\n",
    "            print(f\"Error processing {file_path}: {e}\")\n",
    "\n",
    "with open('ContentDescription.csv','w',newline='') as f:\n",
    "    writer = csv.writer(f)\n",
    "    for content, item, genus in zip(content_list, family_list, genus_list):\n",
    "        writer.writerow([content, item, genus])\n"
   ]
  }
 ],
 "metadata": {
  "kernelspec": {
   "display_name": "venv",
   "language": "python",
   "name": "python3"
  },
  "language_info": {
   "codemirror_mode": {
    "name": "ipython",
    "version": 3
   },
   "file_extension": ".py",
   "mimetype": "text/x-python",
   "name": "python",
   "nbconvert_exporter": "python",
   "pygments_lexer": "ipython3",
   "version": "3.12.7"
  }
 },
 "nbformat": 4,
 "nbformat_minor": 2
}
